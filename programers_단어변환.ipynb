{
 "cells": [
  {
   "cell_type": "markdown",
   "id": "638b94d8-936f-4103-b02b-821b9805884a",
   "metadata": {},
   "source": [
    "https://programmers.co.kr/learn/courses/30/lessons/43163?language=python3"
   ]
  },
  {
   "attachments": {
    "4972f728-a158-42f8-9d0b-bdfd27712900.png": {
     "image/png": "[encoded data removed]"
    }
   },
   "cell_type": "markdown",
   "id": "6c639a97-27dc-4f09-bb9f-78bff65867d4",
   "metadata": {},
   "source": [
    "![image.png](attachment:4972f728-a158-42f8-9d0b-bdfd27712900.png)"
   ]
  },
  {
   "cell_type": "code",
   "execution_count": 1,
   "id": "10e762e9-95bf-4b0a-90bb-68fc007af576",
   "metadata": {},
   "outputs": [],
   "source": [
    "def solution(begin, target, words):\n",
    "    answer = 0\n",
    "    # target이 words에 없으면 0 출력\n",
    "    if target not in words:\n",
    "        answer = 0\n",
    "        return answer\n",
    "    \n",
    "    words.insert(0, begin)\n",
    "    # 노드와 간선\n",
    "    node_dict = {}\n",
    "    node_dict[begin] = 1\n",
    "    for i, word in enumerate(words):\n",
    "        node_dict[word] = i + 1\n",
    "        \n",
    "    INF = int(1e9)\n",
    "    n = len(words)\n",
    "    graph = [[INF] * (n + 1) for _ in range(n + 1)]\n",
    "    \n",
    "    for i in words:\n",
    "        for j in words:\n",
    "            # 자기 자신은 거리 0\n",
    "            if i == j:\n",
    "                graph[node_dict[i]][node_dict[i]] = 0\n",
    "                continue\n",
    "            # edge_test(다른 문자 1개 일때 True) 통과 하면 연결\n",
    "            if edge_test(i, j):\n",
    "                graph[node_dict[i]][node_dict[j]] = 1\n",
    "                graph[node_dict[j]][node_dict[i]] = 1\n",
    "\n",
    "    for k in range(1, n + 1):\n",
    "        for a in range(1, n + 1):\n",
    "            for b in range(1, n + 1):\n",
    "                graph[a][b] = min(graph[a][b], graph[a][k] + graph[k][b])\n",
    "    \n",
    "    distance = graph[node_dict[begin]][node_dict[target]]\n",
    "\n",
    "    if distance >= 1e9:\n",
    "        answer = 0\n",
    "    else:\n",
    "        answer = distance\n",
    "    return answer\n",
    "\n",
    "def edge_test(word1, word2):\n",
    "    is_diff = 0\n",
    "    for i, j in zip(word1, word2):\n",
    "        if i != j:\n",
    "            is_diff += 1\n",
    "    if is_diff == 1:\n",
    "        return True\n",
    "    else:\n",
    "        return False"
   ]
  },
  {
   "cell_type": "code",
   "execution_count": 2,
   "id": "c2304d65-109c-497e-aaf0-4fd4cf458110",
   "metadata": {},
   "outputs": [
    {
     "data": {
      "text/plain": [
       "4"
      ]
     },
     "execution_count": 2,
     "metadata": {},
     "output_type": "execute_result"
    }
   ],
   "source": [
    "begin = 'hit'\n",
    "target = 'cog'\n",
    "words = [\"hot\", \"dot\", \"dog\", \"lot\", \"log\", \"cog\"]\n",
    "solution(begin, target, words)"
   ]
  }
 ],
 "metadata": {
  "kernelspec": {
   "display_name": "Python 3",
   "language": "python",
   "name": "python3"
  },
  "language_info": {
   "codemirror_mode": {
    "name": "ipython",
    "version": 3
   },
   "file_extension": ".py",
   "mimetype": "text/x-python",
   "name": "python",
   "nbconvert_exporter": "python",
   "pygments_lexer": "ipython3",
   "version": "3.6.13"
  }
 },
 "nbformat": 4,
 "nbformat_minor": 5
}
