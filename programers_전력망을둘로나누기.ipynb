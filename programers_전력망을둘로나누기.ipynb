{
 "cells": [
  {
   "cell_type": "markdown",
   "id": "ed356529-6886-4f16-a7cb-e288172d2bd1",
   "metadata": {},
   "source": [
    "https://programmers.co.kr/learn/courses/30/lessons/86971"
   ]
  },
  {
   "attachments": {
    "d39da408-ffba-4363-b9f7-53cfe25e8b8a.png": {
     "image/png": "[encoded data removed]"
    }
   },
   "cell_type": "markdown",
   "id": "ffa32384-815a-4e4d-9bb4-54bec94639fa",
   "metadata": {},
   "source": [
    "![image.png](attachment:d39da408-ffba-4363-b9f7-53cfe25e8b8a.png)"
   ]
  },
  {
   "cell_type": "code",
   "execution_count": 1,
   "id": "278c865d-5369-4bfc-be49-b7fe8ee080e2",
   "metadata": {},
   "outputs": [],
   "source": [
    "from collections import Counter\n",
    "def solution(n, wires):\n",
    "    answer = 100 \n",
    "    for i in range(len(wires)):\n",
    "        del_wires = wires.copy()\n",
    "        del_wires.pop(i)\n",
    "        parent = [0] * (n + 1)\n",
    "        for i in range(1, n + 1):\n",
    "            parent[i] = i\n",
    "        for i in range(len(wires)):\n",
    "            for a, b in del_wires:\n",
    "                union_parent(parent, a, b)\n",
    "\n",
    "        counter = Counter(parent[1:]).most_common()\n",
    "\n",
    "        answer = min(answer, abs(counter[0][1] - counter[1][1]))\n",
    "        if (answer == 0) | (answer == 1):\n",
    "            break\n",
    "    return answer\n",
    "\n",
    "def find_parent(parent, x):\n",
    "    if parent[x] != x:\n",
    "        parent[x] = find_parent(parent, parent[x])\n",
    "    return parent[x]\n",
    "\n",
    "def union_parent(parent, a, b):\n",
    "    a = find_parent(parent, a)\n",
    "    b = find_parent(parent, b)\n",
    "    if a < b:\n",
    "        parent[b] = a\n",
    "    else:\n",
    "        parent[a] = b"
   ]
  },
  {
   "cell_type": "code",
   "execution_count": 2,
   "id": "3e6c77f5-3fc9-48db-96e7-11a35da65ed6",
   "metadata": {},
   "outputs": [
    {
     "data": {
      "text/plain": [
       "2"
      ]
     },
     "execution_count": 2,
     "metadata": {},
     "output_type": "execute_result"
    }
   ],
   "source": [
    "n =6\n",
    "wires = [[1, 4], [3, 6], [2, 5], [1, 5], [3, 5]]\n",
    "solution(n, wires)"
   ]
  },
  {
   "cell_type": "code",
   "execution_count": 3,
   "id": "47ea5208-af84-4324-a3b2-3d8f12b5ca4d",
   "metadata": {},
   "outputs": [
    {
     "data": {
      "text/plain": [
       "3"
      ]
     },
     "execution_count": 3,
     "metadata": {},
     "output_type": "execute_result"
    }
   ],
   "source": [
    "n = 9\n",
    "wires = [[1,3], [2,3], [3,4], [4,5], [4,6], [4,7], [7,8], [7,9]]\n",
    "solution(n, wires)"
   ]
  },
  {
   "cell_type": "code",
   "execution_count": 4,
   "id": "c35a7653-e5b7-40ea-a953-d4dcea549afa",
   "metadata": {},
   "outputs": [
    {
     "data": {
      "text/plain": [
       "0"
      ]
     },
     "execution_count": 4,
     "metadata": {},
     "output_type": "execute_result"
    }
   ],
   "source": [
    "n = 4\n",
    "wires = [[1,2],[2,3],[3,4]]\n",
    "solution(n, wires)"
   ]
  },
  {
   "cell_type": "code",
   "execution_count": 5,
   "id": "c5f119ec-35e3-4a84-b676-91b29b05cfdc",
   "metadata": {},
   "outputs": [
    {
     "data": {
      "text/plain": [
       "1"
      ]
     },
     "execution_count": 5,
     "metadata": {},
     "output_type": "execute_result"
    }
   ],
   "source": [
    "n = 9\n",
    "wires = [[1,2],[2,7],[3,7],[3,4],[4,5],[6,7]]\n",
    "solution(n, wires)"
   ]
  }
 ],
 "metadata": {
  "kernelspec": {
   "display_name": "Python 3",
   "language": "python",
   "name": "python3"
  },
  "language_info": {
   "codemirror_mode": {
    "name": "ipython",
    "version": 3
   },
   "file_extension": ".py",
   "mimetype": "text/x-python",
   "name": "python",
   "nbconvert_exporter": "python",
   "pygments_lexer": "ipython3",
   "version": "3.6.13"
  }
 },
 "nbformat": 4,
 "nbformat_minor": 5
}
