{
 "cells": [
  {
   "cell_type": "code",
   "execution_count": null,
   "metadata": {},
   "outputs": [],
   "source": [
    "'''\n",
    "M이상 N이하의 소수를 모두 출력하는 프로그램을 작성하시오.\n",
    "'''"
   ]
  },
  {
   "cell_type": "code",
   "execution_count": 19,
   "metadata": {},
   "outputs": [
    {
     "name": "stdout",
     "output_type": "stream",
     "text": [
      "3 16\n",
      "3\n",
      "5\n",
      "7\n",
      "11\n",
      "13\n"
     ]
    }
   ],
   "source": [
    "import math\n",
    "start, end = map(int, input().split())\n",
    "\n",
    "def is_prime(p):\n",
    "    if p == 1:\n",
    "        return False\n",
    "    for divisor in range(2,int(math.sqrt(p))+1):\n",
    "        if p % divisor == 0:\n",
    "            return False\n",
    "    return True\n",
    "\n",
    "for j in range(start, end+1):\n",
    "    if is_prime(j) == True:\n",
    "        print(j)"
   ]
  },
  {
   "cell_type": "code",
   "execution_count": 20,
   "metadata": {},
   "outputs": [
    {
     "name": "stdout",
     "output_type": "stream",
     "text": [
      "3 16\n",
      "3\n",
      "5\n",
      "7\n",
      "11\n",
      "13\n"
     ]
    }
   ],
   "source": [
    "start, end = map(int, input().split())\n",
    "\n",
    "for p in range(start, end+1):\n",
    "    count_division = 0\n",
    "    for divisor in range(1,int(p**0.5)+1):\n",
    "        if p % divisor == 0:\n",
    "            count_division +=1\n",
    "    if count_division ==1:\n",
    "        print(p)"
   ]
  },
  {
   "cell_type": "code",
   "execution_count": null,
   "metadata": {},
   "outputs": [],
   "source": [
    "import math\n",
    "start, end = map(int, input().split())\n",
    "\n",
    "def is_prime(p):\n",
    "    if p == 1:\n",
    "        return False\n",
    "    for divisor in range(2,int(math.sqrt(p))+1):\n",
    "        if p % divisor == 0:\n",
    "            return False\n",
    "    return True\n",
    "\n",
    "for j in range(start, end+1):\n",
    "    if is_prime(j) == True:\n",
    "        print(j)"
   ]
  },
  {
   "cell_type": "code",
   "execution_count": null,
   "metadata": {},
   "outputs": [],
   "source": []
  }
 ],
 "metadata": {
  "kernelspec": {
   "display_name": "[CPU_ENV]",
   "language": "python",
   "name": "cpu_env"
  },
  "language_info": {
   "codemirror_mode": {
    "name": "ipython",
    "version": 3
   },
   "file_extension": ".py",
   "mimetype": "text/x-python",
   "name": "python",
   "nbconvert_exporter": "python",
   "pygments_lexer": "ipython3",
   "version": "3.6.10"
  }
 },
 "nbformat": 4,
 "nbformat_minor": 4
}
