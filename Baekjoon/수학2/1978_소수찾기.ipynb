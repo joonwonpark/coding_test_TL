{
 "cells": [
  {
   "cell_type": "code",
   "execution_count": null,
   "metadata": {},
   "outputs": [],
   "source": [
    "'''\n",
    "주어진 수 N개 중에서 소수가 몇 개인지 찾아서 출력하는 프로그램을 작성하시오.\n",
    "4\n",
    "1 3 5 7\n",
    "'''"
   ]
  },
  {
   "cell_type": "code",
   "execution_count": 15,
   "metadata": {},
   "outputs": [
    {
     "name": "stdout",
     "output_type": "stream",
     "text": [
      "1 3 5 7\n",
      "3\n"
     ]
    }
   ],
   "source": [
    "# n =  int(input())\n",
    "check_list = list(map(int,input().split()))\n",
    "answer = 0\n",
    "for p in check_list:\n",
    "    count_divisor = 0\n",
    "    for divisor in range(1,p):\n",
    "        if p % divisor == 0:\n",
    "            count_divisor += 1\n",
    "    if count_divisor == 1:\n",
    "        answer+=1\n",
    "print(answer)"
   ]
  }
 ],
 "metadata": {
  "kernelspec": {
   "display_name": "[CPU_ENV]",
   "language": "python",
   "name": "cpu_env"
  },
  "language_info": {
   "codemirror_mode": {
    "name": "ipython",
    "version": 3
   },
   "file_extension": ".py",
   "mimetype": "text/x-python",
   "name": "python",
   "nbconvert_exporter": "python",
   "pygments_lexer": "ipython3",
   "version": "3.6.10"
  }
 },
 "nbformat": 4,
 "nbformat_minor": 4
}
