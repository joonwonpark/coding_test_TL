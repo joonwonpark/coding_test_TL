{
 "cells": [
  {
   "cell_type": "code",
   "execution_count": null,
   "metadata": {},
   "outputs": [],
   "source": [
    "'''\n",
    "베르트랑 공준은 임의의 자연수 n에 대하여, n보다 크고, 2n보다 작거나 같은 소수는 적어도 하나 존재한다는 내용을 담고 있다.\n",
    "\n",
    "이 명제는 조제프 베르트랑이 1845년에 추측했고, 파프누티 체비쇼프가 1850년에 증명했다.\n",
    "\n",
    "예를 들어, 10보다 크고, 20보다 작거나 같은 소수는 4개가 있다. (11, 13, 17, 19) \n",
    "\n",
    "n이 주어졌을 때, n보다 크고, 2n보다 작거나 같은 소수의 개수를 구하는 프로그램을 작성하시오.\n",
    "'''"
   ]
  },
  {
   "cell_type": "code",
   "execution_count": 3,
   "metadata": {},
   "outputs": [
    {
     "name": "stdout",
     "output_type": "stream",
     "text": [
      "10\n",
      "4\n",
      "100\n",
      "21\n",
      "0\n"
     ]
    }
   ],
   "source": [
    "def prime_list(n):\n",
    "    prime_check = [True] * n\n",
    "\n",
    "    for i in range(2, int(n ** 0.5) + 1):\n",
    "        if prime_check[i] == True:\n",
    "            for j in range(i+i, n, i): # i 보다 큰 i의 배수 제거\n",
    "                prime_check[j] = False\n",
    " \n",
    "    return [i for i in range(2, n) if prime_check[i] == True]\n",
    " \n",
    "while 1:\n",
    "    n=int(input())\n",
    "    if n==0:\n",
    "        break\n",
    "    \n",
    "    print(len([i for i in prime_list(2*n+1) if i>n]))"
   ]
  }
 ],
 "metadata": {
  "kernelspec": {
   "display_name": "[CPU_ENV]",
   "language": "python",
   "name": "cpu_env"
  },
  "language_info": {
   "codemirror_mode": {
    "name": "ipython",
    "version": 3
   },
   "file_extension": ".py",
   "mimetype": "text/x-python",
   "name": "python",
   "nbconvert_exporter": "python",
   "pygments_lexer": "ipython3",
   "version": "3.6.10"
  }
 },
 "nbformat": 4,
 "nbformat_minor": 4
}
