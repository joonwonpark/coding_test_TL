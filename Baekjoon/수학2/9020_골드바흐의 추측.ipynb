{
 "cells": [
  {
   "cell_type": "code",
   "execution_count": null,
   "metadata": {},
   "outputs": [],
   "source": [
    "'''\n",
    "1보다 큰 자연수 중에서  1과 자기 자신을 제외한 약수가 없는 자연수를 소수라고 한다.\n",
    "\n",
    "예를 들어, 5는 1과 5를 제외한 약수가 없기 때문에 소수이다. 하지만, 6은 6 = 2 × 3 이기 때문에 소수가 아니다.\n",
    "\n",
    "골드바흐의 추측은 유명한 정수론의 미해결 문제로, 2보다 큰 모든 짝수는 두 소수의 합으로 나타낼 수 있다는 것이다. \n",
    "\n",
    "이러한 수를 골드바흐 수라고 한다. 또, 짝수를 두 소수의 합으로 나타내는 표현을 그 수의 골드바흐 파티션이라고 한다.\n",
    "\n",
    "예를 들면, 4 = 2 + 2, 6 = 3 + 3, 8 = 3 + 5, 10 = 5 + 5, 12 = 5 + 7, 14 = 3 + 11, 14 = 7 + 7이다. \n",
    "\n",
    "10000보다 작거나 같은 모든 짝수 n에 대한 골드바흐 파티션은 존재한다.\n",
    "\n",
    "2보다 큰 짝수 n이 주어졌을 때, n의 골드바흐 파티션을 출력하는 프로그램을 작성하시오. \n",
    "\n",
    "만약 가능한 n의 골드바흐 파티션이 여러 가지인 경우에는 두 소수의 차이가 가장 작은 것을 출력한다.\n",
    "'''"
   ]
  },
  {
   "cell_type": "code",
   "execution_count": 2,
   "metadata": {},
   "outputs": [],
   "source": [
    "def prime_list(n):\n",
    "    prime_check = [True] * n\n",
    "    \n",
    "    for i in range(2, int(n**0.5) +1):\n",
    "        if prime_check[i] == True:\n",
    "            for j in range(2*i, n, i):\n",
    "                prime_check[j] = False\n",
    "                \n",
    "    return [k for k in range(2, n) if prime_check[k] == True]"
   ]
  },
  {
   "cell_type": "code",
   "execution_count": 1,
   "metadata": {},
   "outputs": [
    {
     "name": "stdout",
     "output_type": "stream",
     "text": [
      "3\n",
      "8\n",
      "3 5\n",
      "10\n",
      "5 5\n",
      "14\n",
      "7 7\n"
     ]
    }
   ],
   "source": [
    "def prime_list(n):\n",
    "    prime_check = [True] * n\n",
    "    \n",
    "    for i in range(2, int(n**0.5) +1):\n",
    "        if prime_check[i] == True:\n",
    "            for j in range(2*i, n, i):\n",
    "                prime_check[j] = False\n",
    "                \n",
    "    return [k for k in range(2, n) if prime_check[k] == True]\n",
    "\n",
    "num = int(input())\n",
    "\n",
    "for _ in range(num):\n",
    "    n = int(input())\n",
    "    \n",
    "    for p in range(int(n/2), 1, -1):\n",
    "        if p in prime_list() and n-p in prime_list(n):\n",
    "            print(p,n -p)\n",
    "            break"
   ]
  }
 ],
 "metadata": {
  "kernelspec": {
   "display_name": "[CPU_ENV]",
   "language": "python",
   "name": "cpu_env"
  },
  "language_info": {
   "codemirror_mode": {
    "name": "ipython",
    "version": 3
   },
   "file_extension": ".py",
   "mimetype": "text/x-python",
   "name": "python",
   "nbconvert_exporter": "python",
   "pygments_lexer": "ipython3",
   "version": "3.6.10"
  }
 },
 "nbformat": 4,
 "nbformat_minor": 4
}
