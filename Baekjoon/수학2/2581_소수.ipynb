{
 "cells": [
  {
   "cell_type": "code",
   "execution_count": null,
   "metadata": {},
   "outputs": [],
   "source": [
    "'''\n",
    "자연수 M과 N이 주어질 때 M이상 N이하의 자연수 중 소수인 것을 모두 골라 이들 소수의 합과 최솟값을 찾는 프로그램을 작성하시오.\n",
    "\n",
    "예를 들어 M=60, N=100인 경우 60이상 100이하의 자연수 중 소수는 61, 67, 71, 73, 79, 83, 89, 97 총 8개가 있으므로,\n",
    "\n",
    "이들 소수의 합은 620이고, 최솟값은 61이 된다.\n",
    "'''"
   ]
  },
  {
   "cell_type": "code",
   "execution_count": 7,
   "metadata": {},
   "outputs": [
    {
     "name": "stdout",
     "output_type": "stream",
     "text": [
      "20\n",
      "22\n",
      "-1\n"
     ]
    }
   ],
   "source": [
    "start = int(input())\n",
    "end = int(input())\n",
    "\n",
    "answer = 0\n",
    "min_prime = end\n",
    "\n",
    "for p in range(start, end+1):\n",
    "    count_division = 0\n",
    "    for divisor in range(1,p):\n",
    "        if p % divisor == 0:\n",
    "            count_division +=1\n",
    "    if count_division ==1:\n",
    "        answer += p\n",
    "        if min_prime > p:\n",
    "            min_prime = p\n",
    "            \n",
    "if min_prime == end:\n",
    "    answer = -1\n",
    "    print(answer)\n",
    "else:\n",
    "    print(answer)\n",
    "    print(min_prime)"
   ]
  }
 ],
 "metadata": {
  "kernelspec": {
   "display_name": "[CPU_ENV]",
   "language": "python",
   "name": "cpu_env"
  },
  "language_info": {
   "codemirror_mode": {
    "name": "ipython",
    "version": 3
   },
   "file_extension": ".py",
   "mimetype": "text/x-python",
   "name": "python",
   "nbconvert_exporter": "python",
   "pygments_lexer": "ipython3",
   "version": "3.6.10"
  }
 },
 "nbformat": 4,
 "nbformat_minor": 4
}
