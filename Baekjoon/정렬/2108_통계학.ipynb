{
 "cells": [
  {
   "cell_type": "code",
   "execution_count": null,
   "metadata": {},
   "outputs": [],
   "source": [
    "'''\n",
    "수를 처리하는 것은 통계학에서 상당히 중요한 일이다. 통계학에서 N개의 수를 대표하는 기본 통계값에는 다음과 같은 것들이 있다.\n",
    "\n",
    "단, N은 홀수라고 가정하자.\n",
    "\n",
    "산술평균 : N개의 수들의 합을 N으로 나눈 값\n",
    "중앙값 : N개의 수들을 증가하는 순서로 나열했을 경우 그 중앙에 위치하는 값\n",
    "최빈값 : N개의 수들 중 가장 많이 나타나는 값\n",
    "범위 : N개의 수들 중 최댓값과 최솟값의 차이\n",
    "N개의 수가 주어졌을 때, 네 가지 기본 통계값을 구하는 프로그램을 작성하시오.\n",
    "'''"
   ]
  },
  {
   "cell_type": "code",
   "execution_count": 62,
   "metadata": {},
   "outputs": [],
   "source": [
    "import sys\n",
    "import io\n",
    "\n",
    "input_file = open('2108_case2.txt', 'r') # case를 메모장으로 만듬\n",
    "sys.stdin = io.StringIO(input_file.read())"
   ]
  },
  {
   "cell_type": "code",
   "execution_count": 63,
   "metadata": {
    "scrolled": true
   },
   "outputs": [
    {
     "name": "stdout",
     "output_type": "stream",
     "text": [
      "5\n",
      "-2\n",
      "-2\n",
      "-1\n",
      "2\n"
     ]
    }
   ],
   "source": [
    "import sys\n",
    "\n",
    "def mean(li) :\n",
    "    return round(sum(li)/len(li))\n",
    " \n",
    "def median(li) :\n",
    "    if len(li) % 2 !=0:\n",
    "        return li[len(li)//2]\n",
    "    else:\n",
    "        return mean([li[len(li)//2],li[len(li)//2+1]])\n",
    "\n",
    "        \n",
    "from collections import Counter\n",
    "\n",
    "def mode(li):\n",
    "    c = Counter(li).most_common()\n",
    "    if len(li) == 1 :\n",
    "        return li[0]\n",
    "    \n",
    "    else:\n",
    "        if c[0][1] == c[1][1]:\n",
    "            return c[1][0]\n",
    "        else:\n",
    "            return c[0][0]\n",
    "\n",
    "\n",
    "def min_max(li) :\n",
    "    return max(li) - min(li)\n",
    "\n",
    "        \n",
    "n = int(input())\n",
    "li = []\n",
    "for num in sys.stdin:\n",
    "    li.append(int(num))\n",
    "\n",
    "\n",
    "print(mean(sorted(li)))\n",
    "print(mean(sorted(li)))\n",
    "print(mode(sorted(li)))\n",
    "print(min_max(sorted(li)))"
   ]
  },
  {
   "cell_type": "code",
   "execution_count": 61,
   "metadata": {},
   "outputs": [],
   "source": [
    "def mode(li):\n",
    "    c = Counter(li).most_common()\n",
    "    if len(li) == 1 :\n",
    "        return li[0]\n",
    "    \n",
    "    else:\n",
    "        if c[0][1] == c[1][1]:\n",
    "            return c[1][0]\n",
    "        else:\n",
    "            return c[0][0]"
   ]
  },
  {
   "cell_type": "code",
   "execution_count": null,
   "metadata": {},
   "outputs": [],
   "source": [
    "def mode(li):\n",
    "    if len(li) == 1:\n",
    "        return li[0]\n",
    "    else:\n",
    "        "
   ]
  }
 ],
 "metadata": {
  "kernelspec": {
   "display_name": "[CPU_ENV]",
   "language": "python",
   "name": "cpu_env"
  },
  "language_info": {
   "codemirror_mode": {
    "name": "ipython",
    "version": 3
   },
   "file_extension": ".py",
   "mimetype": "text/x-python",
   "name": "python",
   "nbconvert_exporter": "python",
   "pygments_lexer": "ipython3",
   "version": "3.6.10"
  }
 },
 "nbformat": 4,
 "nbformat_minor": 4
}
