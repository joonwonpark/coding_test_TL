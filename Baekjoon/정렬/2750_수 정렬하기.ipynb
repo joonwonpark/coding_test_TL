{
 "cells": [
  {
   "cell_type": "markdown",
   "metadata": {},
   "source": [
    "Bubble Sort"
   ]
  },
  {
   "cell_type": "code",
   "execution_count": 4,
   "metadata": {
    "scrolled": true
   },
   "outputs": [
    {
     "name": "stdout",
     "output_type": "stream",
     "text": [
      "5\n",
      "1\n",
      "2\n",
      "3\n",
      "4\n",
      "5\n"
     ]
    }
   ],
   "source": [
    "import sys\n",
    "\n",
    "def BubbleSort(li):\n",
    "    for i in range(len(li)) : \n",
    "        for j in range(len(li)) : \n",
    "            if li[i] < li[j] : \n",
    "                li[i], li[j] = li[j], li[i]\n",
    "    return li\n",
    "\n",
    "n = int(input())\n",
    "\n",
    "li = []\n",
    "for num in sys.stdin:\n",
    "    li.append(int(num))\n",
    "    \n",
    "for _ in BubbleSort(li):\n",
    "    print(_)"
   ]
  },
  {
   "cell_type": "markdown",
   "metadata": {},
   "source": [
    "Insert Sort"
   ]
  },
  {
   "cell_type": "code",
   "execution_count": 8,
   "metadata": {},
   "outputs": [
    {
     "name": "stdout",
     "output_type": "stream",
     "text": [
      "5\n",
      "1\n",
      "2\n",
      "3\n",
      "4\n",
      "5\n"
     ]
    }
   ],
   "source": [
    "import sys\n",
    "\n",
    "def InsertSort(li):\n",
    "    for i in range(1, len(li)) :\n",
    "        while (i>0) & (li[i] < li[i-1]) :\n",
    "            li[i], li[i-1] = li[i-1], li[i]\n",
    "        \n",
    "            i -= 1\n",
    "    return li\n",
    "n = int(input())\n",
    "\n",
    "li = []\n",
    "for num in sys.stdin:\n",
    "    li.append(int(num))\n",
    "    \n",
    "for _ in InsertSort(li):\n",
    "    print(_)"
   ]
  }
 ],
 "metadata": {
  "kernelspec": {
   "display_name": "[CPU_ENV]",
   "language": "python",
   "name": "cpu_env"
  },
  "language_info": {
   "codemirror_mode": {
    "name": "ipython",
    "version": 3
   },
   "file_extension": ".py",
   "mimetype": "text/x-python",
   "name": "python",
   "nbconvert_exporter": "python",
   "pygments_lexer": "ipython3",
   "version": "3.6.10"
  }
 },
 "nbformat": 4,
 "nbformat_minor": 4
}
