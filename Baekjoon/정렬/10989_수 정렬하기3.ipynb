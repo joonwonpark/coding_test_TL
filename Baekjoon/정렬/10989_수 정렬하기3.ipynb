{
 "cells": [
  {
   "cell_type": "code",
   "execution_count": 14,
   "metadata": {},
   "outputs": [],
   "source": [
    "import sys\n",
    "import io\n",
    "\n",
    "input_file = open('10989_case.txt', 'r') # case를 메모장으로 만듬\n",
    "sys.stdin = io.StringIO(input_file.read())"
   ]
  },
  {
   "cell_type": "markdown",
   "metadata": {},
   "source": [
    "Counting Sort"
   ]
  },
  {
   "cell_type": "code",
   "execution_count": 15,
   "metadata": {},
   "outputs": [
    {
     "name": "stdout",
     "output_type": "stream",
     "text": [
      "10\n",
      "1\n",
      "1\n",
      "2\n",
      "2\n",
      "3\n",
      "3\n",
      "4\n",
      "5\n",
      "5\n",
      "7\n"
     ]
    }
   ],
   "source": [
    "import sys\n",
    "n = int(input())\n",
    "count_list = [0] * 10001\n",
    "\n",
    "for i in range(n):\n",
    "    a = int(sys.stdin.readline())\n",
    "    count_list[a] = count_list[a] + 1\n",
    "\n",
    "for j in range(len(count_list)):\n",
    "    if count_list[j] !=0:\n",
    "        for c in range(count_list[j]):\n",
    "            print(j)"
   ]
  },
  {
   "cell_type": "code",
   "execution_count": null,
   "metadata": {},
   "outputs": [],
   "source": [
    "# A: input array\n",
    "# k: maximum value of A\n",
    "def counting_sort(A, k):\n",
    "    \n",
    "    # B: output array\n",
    "    # init with -1\n",
    "    B = [-1] * len(A)\n",
    "    \n",
    "    # C: counting array\n",
    "    # init with zeros\n",
    "    C = [0] * (k + 1)\n",
    "    \n",
    "    # count occurences\n",
    "    for a in A:\n",
    "        C[a] += 1\n",
    "    \n",
    "    # update C\n",
    "    for i in range(k):\n",
    "        C[i+1] += C[i]\n",
    "    \n",
    "    # update B\n",
    "    for j in reversed(range(len(A))):\n",
    "    \tB[C[A[j]] - 1] = A[j]\n",
    "    \tC[A[j]] -= 1\n",
    "\n",
    "    return B"
   ]
  }
 ],
 "metadata": {
  "kernelspec": {
   "display_name": "[CPU_ENV]",
   "language": "python",
   "name": "cpu_env"
  },
  "language_info": {
   "codemirror_mode": {
    "name": "ipython",
    "version": 3
   },
   "file_extension": ".py",
   "mimetype": "text/x-python",
   "name": "python",
   "nbconvert_exporter": "python",
   "pygments_lexer": "ipython3",
   "version": "3.6.10"
  }
 },
 "nbformat": 4,
 "nbformat_minor": 4
}
