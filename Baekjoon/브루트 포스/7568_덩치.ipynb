{
 "cells": [
  {
   "cell_type": "code",
   "execution_count": null,
   "metadata": {},
   "outputs": [],
   "source": [
    "'''\n",
    "우리는 사람의 덩치를 키와 몸무게, 이 두 개의 값으로 표현하여 그 등수를 매겨보려고 한다.\n",
    "\n",
    "어떤 사람의 몸무게가 x kg이고 키가 y cm라면 이 사람의 덩치는 (x,y)로 표시된다.\n",
    "\n",
    "두 사람 A 와 B의 덩치가 각각 (x,y), (p,q)라고 할 때 x>p 그리고 y>q 이라면 우리는 A의 덩치가 B의 덩치보다 \"더 크다\"고 말한다.\n",
    "\n",
    "예를 들어 어떤 A, B 두 사람의 덩치가 각각 (56,177), (45,165) 라고 한다면 A의 덩치가 B보다 큰 셈이 된다.\n",
    "\n",
    "그런데 서로 다른 덩치끼리 크기를 정할 수 없는 경우도 있다.\n",
    "\n",
    "예를 들어 두 사람 C와 D의 덩치가 각각 (45, 181), (55,173)이라면 몸무게는 D가 C보다 더 무겁고, 키는 C가 더 크므로,\n",
    "\n",
    "\"덩치\"로만 볼 때 C와 D는 누구도 상대방보다 더 크다고 말할 수 없다.\n",
    "\n",
    "N명의 집단에서 각 사람의 덩치 등수는 자신보다 더 \"큰 덩치\"의 사람의 수로 정해진다.\n",
    "\n",
    "만일 자신보다 더 큰 덩치의 사람이 k명이라면 그 사람의 덩치 등수는 k+1이 된다.\n",
    "\n",
    "이렇게 등수를 결정하면 같은 덩치 등수를 가진 사람은 여러 명도 가능하다.\n",
    "'''"
   ]
  },
  {
   "cell_type": "code",
   "execution_count": null,
   "metadata": {},
   "outputs": [],
   "source": [
    "'''5\n",
    "55 185\n",
    "58 183\n",
    "88 186\n",
    "60 175\n",
    "46 155\n",
    "'''"
   ]
  },
  {
   "cell_type": "code",
   "execution_count": null,
   "metadata": {},
   "outputs": [],
   "source": [
    "# 틀렸음"
   ]
  },
  {
   "cell_type": "code",
   "execution_count": 11,
   "metadata": {},
   "outputs": [
    {
     "name": "stdout",
     "output_type": "stream",
     "text": [
      "3\n",
      "10 100\n",
      "9 101\n",
      "11 101\n",
      "2 1 1 "
     ]
    }
   ],
   "source": [
    "n = int(input())\n",
    "\n",
    "wh_list = []\n",
    "rank_list = []\n",
    "for _ in range(n):\n",
    "    x, y = map(int, input().split())\n",
    "    \n",
    "    if _ == 0:\n",
    "        rank =1\n",
    "    else:\n",
    "        rank =1\n",
    "        for i in range(len(wh_list)):\n",
    "            if (x - wh_list[i][0]) > 0 and  (y - wh_list[i][1]) > 0:\n",
    "                rank_list[i] += 1\n",
    "            elif (x - wh_list[i][0]) < 0 and  (y - wh_list[i][1]) < 0:\n",
    "                rank +=1\n",
    "            else:\n",
    "                rank = rank_list[i]\n",
    "                break\n",
    "    wh_list.append((x,y))\n",
    "    rank_list.append(rank)\n",
    "for i in rank_list:\n",
    "    print(i, end = \" \")"
   ]
  },
  {
   "cell_type": "code",
   "execution_count": null,
   "metadata": {},
   "outputs": [],
   "source": []
  },
  {
   "cell_type": "code",
   "execution_count": null,
   "metadata": {},
   "outputs": [],
   "source": [
    "n = int(input())\n",
    "\n",
    "wh_list = []\n",
    "for _ in range(n):\n",
    "    x, y = map(int, input().split())\n",
    "    wh_list.append((x,y))\n",
    "\n",
    "for i in wh_list:\n",
    "    rank = 1\n",
    "    for j in wh_list:\n",
    "        if i[0] < j[0] and i[1] < j[1]:\n",
    "                rank += 1\n",
    "    print(rank, end = \" \")\n",
    "    "
   ]
  }
 ],
 "metadata": {
  "kernelspec": {
   "display_name": "[CPU_ENV]",
   "language": "python",
   "name": "cpu_env"
  },
  "language_info": {
   "codemirror_mode": {
    "name": "ipython",
    "version": 3
   },
   "file_extension": ".py",
   "mimetype": "text/x-python",
   "name": "python",
   "nbconvert_exporter": "python",
   "pygments_lexer": "ipython3",
   "version": "3.6.10"
  }
 },
 "nbformat": 4,
 "nbformat_minor": 4
}
