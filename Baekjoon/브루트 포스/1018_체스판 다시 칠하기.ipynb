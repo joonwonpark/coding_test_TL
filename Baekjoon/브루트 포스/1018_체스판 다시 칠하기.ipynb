{
 "cells": [
  {
   "cell_type": "code",
   "execution_count": null,
   "metadata": {},
   "outputs": [],
   "source": [
    "'''\n",
    "지민이는 자신의 저택에서 MN개의 단위 정사각형으로 나누어져 있는 M*N 크기의 보드를 찾았다.\n",
    "\n",
    "어떤 정사각형은 검은색으로 칠해져 있고, 나머지는 흰색으로 칠해져 있다. 지민이는 이 보드를 잘라서 8*8 크기의 체스판으로 만들려고 한다.\n",
    "\n",
    "체스판은 검은색과 흰색이 번갈아서 칠해져 있어야 한다. 구체적으로, 각 칸이 검은색과 흰색 중 하나로 색칠되어 있고,\n",
    "\n",
    "변을 공유하는 두 개의 사각형은 다른 색으로 칠해져 있어야 한다. 따라서 이 정의를 따르면 체스판을 색칠하는 경우는 두 가지뿐이다.\n",
    "\n",
    "하나는 맨 왼쪽 위 칸이 흰색인 경우, 하나는 검은색인 경우이다.\n",
    "\n",
    "보드가 체스판처럼 칠해져 있다는 보장이 없어서, 지민이는 8*8 크기의 체스판으로 잘라낸 후에 몇 개의 정사각형을 다시 칠해야겠다고 생각했다.\n",
    "\n",
    "당연히 8*8 크기는 아무데서나 골라도 된다. 지민이가 다시 칠해야 하는 정사각형의 최소 개수를 구하는 프로그램을 작성하시오.\n",
    "'''"
   ]
  },
  {
   "cell_type": "code",
   "execution_count": 4,
   "metadata": {},
   "outputs": [],
   "source": [
    "import sys\n",
    "import io      # in python2, import StringIO\n",
    "\n",
    "# input_file = open('1018_case1.txt', 'r')\n",
    "input_file = open('1018_case2.txt', 'r')\n",
    "sys.stdin = io.StringIO(input_file.read())\n",
    "\n",
    "# for line in sys.stdin:\n",
    "#     print(line, end='')"
   ]
  },
  {
   "cell_type": "code",
   "execution_count": null,
   "metadata": {
    "scrolled": true
   },
   "outputs": [],
   "source": [
    "M, N = map(int, input().split())\n",
    "board = []\n",
    "for line in sys.stdin:\n",
    "    board.append(line)"
   ]
  },
  {
   "cell_type": "code",
   "execution_count": null,
   "metadata": {},
   "outputs": [],
   "source": [
    "print(board)"
   ]
  },
  {
   "cell_type": "code",
   "execution_count": null,
   "metadata": {},
   "outputs": [],
   "source": [
    "def bw_check(bw,row):\n",
    "    wrong_cnt = 0\n",
    "    for i in range(len(bw)):\n",
    "        if row % 2==0:\n",
    "            if i % 2 == 0:\n",
    "                if bw[i] == \"W\":\n",
    "                    wrong_cnt +=1\n",
    "            else:\n",
    "                if bw[i] == \"B\":\n",
    "                    wrong_cnt +=1\n",
    "        else:\n",
    "            if i % 2 == 0:\n",
    "                if bw[i] == \"B\":\n",
    "                    wrong_cnt +=1\n",
    "            else:\n",
    "                if bw[i] == \"W\":\n",
    "                    wrong_cnt +=1\n",
    "    return wrong_cnt\n",
    "\n",
    "def wb_check(wb,row):\n",
    "    wrong_cnt = 0\n",
    "    for i in range(len(wb)):\n",
    "        if row % 2==1:\n",
    "            if i % 2 == 0:\n",
    "                if wb[i] == \"W\":\n",
    "                    wrong_cnt +=1\n",
    "            else:\n",
    "                if wb[i] == \"B\":\n",
    "                    wrong_cnt +=1\n",
    "        else:\n",
    "            if i % 2 == 0:\n",
    "                if wb[i] == \"B\":\n",
    "                    wrong_cnt +=1\n",
    "            else:\n",
    "                if wb[i] == \"W\":\n",
    "                    wrong_cnt +=1\n",
    "    return wrong_cnt"
   ]
  },
  {
   "cell_type": "code",
   "execution_count": 5,
   "metadata": {},
   "outputs": [
    {
     "name": "stdout",
     "output_type": "stream",
     "text": [
      "10 13\n",
      "12\n"
     ]
    }
   ],
   "source": [
    "import sys\n",
    "\n",
    "M, N = map(int, input().split())\n",
    "board = []\n",
    "for line in sys.stdin:\n",
    "    board.append(line)\n",
    "\n",
    "def bw_check(bw,row):\n",
    "    wrong_cnt = 0\n",
    "    for i in range(len(bw)):\n",
    "        if (row + i) % 2 == 0:\n",
    "            if bw[i] == \"W\":\n",
    "                wrong_cnt += 1\n",
    "        else:\n",
    "            if bw[i] == \"B\":\n",
    "                wrong_cnt += 1\n",
    "\n",
    "    return wrong_cnt\n",
    "\n",
    "def wb_check(wb,row):\n",
    "    wrong_cnt = 0\n",
    "    for i in range(len(wb)):\n",
    "        if (row+ i) % 2 == 0:\n",
    "            if wb[i] == \"B\":\n",
    "                wrong_cnt += 1\n",
    "\n",
    "        else:\n",
    "            if wb[i] == \"W\":\n",
    "                wrong_cnt += 1\n",
    "\n",
    "    return wrong_cnt\n",
    "\n",
    "answer = M * N\n",
    "for i in range(M-7):\n",
    "    for j in range(N-7):\n",
    "        bw_answer = 0\n",
    "        wb_answer = 0\n",
    "        for k in range(8):\n",
    "            bw_answer += bw_check(board[i+k][j:j+8],i+k)\n",
    "            wb_answer += wb_check(board[i+k][j:j+8],i+k)\n",
    "        answer = min(answer,bw_answer,wb_answer)\n",
    "print(answer)"
   ]
  }
 ],
 "metadata": {
  "kernelspec": {
   "display_name": "[CPU_ENV]",
   "language": "python",
   "name": "cpu_env"
  },
  "language_info": {
   "codemirror_mode": {
    "name": "ipython",
    "version": 3
   },
   "file_extension": ".py",
   "mimetype": "text/x-python",
   "name": "python",
   "nbconvert_exporter": "python",
   "pygments_lexer": "ipython3",
   "version": "3.6.10"
  }
 },
 "nbformat": 4,
 "nbformat_minor": 4
}
