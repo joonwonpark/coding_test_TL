{
 "cells": [
  {
   "cell_type": "code",
   "execution_count": null,
   "id": "5c495f94-d827-4249-bb8c-0de3a6d32520",
   "metadata": {},
   "outputs": [],
   "source": [
    "import heapq\n",
    "import sys\n",
    "N = int(input())\n",
    "\n",
    "q = []\n",
    "\n",
    "for _ in range(N):\n",
    "    num = int(sys.stdin.readline())\n",
    "    if num == 0:\n",
    "        if q:\n",
    "            print(heapq.heappop(q))\n",
    "        else:\n",
    "            print(0)\n",
    "    else:\n",
    "        heapq.heappush(q, num)"
   ]
  },
  {
   "cell_type": "code",
   "execution_count": null,
   "id": "647de8a2-514a-49bc-861f-fd545f8af646",
   "metadata": {},
   "outputs": [],
   "source": [
    "import heapq\n",
    "import sys\n",
    "\n",
    "N = int(input())\n",
    "q = []\n",
    "\n",
    "for _ in range(N):\n",
    "    num = int(sys.stdin.readline())\n",
    "    if num == 0:\n",
    "        if q:\n",
    "            print(heapq.heappop(q))\n",
    "        else:\n",
    "            print(0)\n",
    "    else:\n",
    "        heapq.heappush(q, num)"
   ]
  },
  {
   "cell_type": "code",
   "execution_count": null,
   "id": "579ac7ed-efd2-4fb6-8e45-29a3833cd339",
   "metadata": {},
   "outputs": [],
   "source": [
    "import heapq\n",
    "import sys\n",
    "\n",
    "N = int(input())\n",
    "q = []\n",
    "\n",
    "for _ in range(N):\n",
    "    num = int(sys.stdin.readline())\n",
    "    if num == 0:\n",
    "        if q:\n",
    "            print(heapq.heappop(q))\n",
    "        else:\n",
    "            print(0)\n",
    "    else:\n",
    "        heapq.heappush(q, num)"
   ]
  },
  {
   "cell_type": "code",
   "execution_count": null,
   "id": "4a4ad318-e075-48e5-a65f-d2deaf713a90",
   "metadata": {},
   "outputs": [],
   "source": [
    "import heapq\n",
    "import sys\n",
    "\n",
    "N = int(input())\n",
    "q = []\n",
    "\n",
    "for _ in range(N):\n",
    "    num = int(sys.stdin.readline())\n",
    "    if num == 0:\n",
    "        if q:\n",
    "            print(heapq.heappop(q))\n",
    "        else:\n",
    "            print(0)\n",
    "    else:\n",
    "        heapq.heappush(q, num)"
   ]
  }
 ],
 "metadata": {
  "kernelspec": {
   "display_name": "Python 3",
   "language": "python",
   "name": "python3"
  },
  "language_info": {
   "codemirror_mode": {
    "name": "ipython",
    "version": 3
   },
   "file_extension": ".py",
   "mimetype": "text/x-python",
   "name": "python",
   "nbconvert_exporter": "python",
   "pygments_lexer": "ipython3",
   "version": "3.6.13"
  }
 },
 "nbformat": 4,
 "nbformat_minor": 5
}
