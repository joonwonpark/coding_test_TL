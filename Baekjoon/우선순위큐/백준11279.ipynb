{
 "cells": [
  {
   "cell_type": "code",
   "execution_count": null,
   "id": "6b52457c-db51-4e76-8b22-bfc997facf06",
   "metadata": {},
   "outputs": [],
   "source": [
    "import heapq\n",
    "from sys import stdin\n",
    "N = int(stdin.readline())\n",
    "# N = int(input())\n",
    "q = []\n",
    "\n",
    "for _ in range(N):\n",
    "    num = int(stdin.readline())\n",
    "#     num = int(input())\n",
    "    if num == 0:\n",
    "        if q:\n",
    "            print(heapq.heappop(q)[1])\n",
    "        else:\n",
    "            print(0)\n",
    "    else:\n",
    "        heapq.heappush(q, (-num, num))"
   ]
  },
  {
   "cell_type": "code",
   "execution_count": null,
   "id": "3fe0402f-d7a1-483a-b454-7bfaa3cc6684",
   "metadata": {},
   "outputs": [],
   "source": [
    "import sys\n",
    "import heapq\n",
    "\n",
    "heap = []\n",
    "n = int(sys.stdin.readline())\n",
    "for _ in range(n):\n",
    "    m = int(sys.stdin.readline())\n",
    "    if m == 0:\n",
    "        if len(heap) == 0:\n",
    "            print(0)\n",
    "        else:\n",
    "            print((-1)*heapq.heappop(heap))\n",
    "    else:\n",
    "        heapq.heappush(heap, (-1)*m)"
   ]
  },
  {
   "cell_type": "code",
   "execution_count": null,
   "id": "111e515e-a110-4310-afe4-2fb078b89644",
   "metadata": {},
   "outputs": [],
   "source": []
  }
 ],
 "metadata": {
  "kernelspec": {
   "display_name": "Python 3",
   "language": "python",
   "name": "python3"
  },
  "language_info": {
   "codemirror_mode": {
    "name": "ipython",
    "version": 3
   },
   "file_extension": ".py",
   "mimetype": "text/x-python",
   "name": "python",
   "nbconvert_exporter": "python",
   "pygments_lexer": "ipython3",
   "version": "3.6.13"
  }
 },
 "nbformat": 4,
 "nbformat_minor": 5
}
