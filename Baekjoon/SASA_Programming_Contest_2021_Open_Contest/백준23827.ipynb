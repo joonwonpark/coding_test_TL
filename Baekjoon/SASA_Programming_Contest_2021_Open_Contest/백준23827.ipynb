{
 "cells": [
  {
   "cell_type": "markdown",
   "id": "da45952f-e4f2-4592-ab8f-b86e682a03ef",
   "metadata": {},
   "source": [
    "https://www.acmicpc.net/problem/23827"
   ]
  },
  {
   "attachments": {
    "d29b16cf-64f0-47bf-b1c8-1b5e8a4b2296.png": {
     "image/png": "[encoded data removed]"
    }
   },
   "cell_type": "markdown",
   "id": "e094412e-00f5-4208-967e-8be0717b1b6d",
   "metadata": {},
   "source": [
    "![image.png](attachment:d29b16cf-64f0-47bf-b1c8-1b5e8a4b2296.png)"
   ]
  },
  {
   "cell_type": "code",
   "execution_count": 1,
   "id": "560a2ece-a6df-4816-b73e-06f8537b16a7",
   "metadata": {},
   "outputs": [
    {
     "data": {
      "text/plain": [
       "'\\n3\\n1 2 3\\n'"
      ]
     },
     "execution_count": 1,
     "metadata": {},
     "output_type": "execute_result"
    }
   ],
   "source": [
    "'''\n",
    "3\n",
    "1 2 3\n",
    "'''"
   ]
  },
  {
   "cell_type": "code",
   "execution_count": 2,
   "id": "d988cd11-a7e3-42eb-b7e1-4d65f50223fe",
   "metadata": {},
   "outputs": [
    {
     "name": "stdin",
     "output_type": "stream",
     "text": [
      " 3\n",
      " 1 2 3\n"
     ]
    },
    {
     "name": "stdout",
     "output_type": "stream",
     "text": [
      "11\n"
     ]
    }
   ],
   "source": [
    "from itertools import combinations\n",
    "n = int(input())\n",
    "combi = combinations(list(map(int, input().split())), 2)\n",
    "answer = 0\n",
    "for i in list(combi):\n",
    "    answer += i[0] * i[1]\n",
    "print(answer % 1000000007)"
   ]
  },
  {
   "cell_type": "code",
   "execution_count": 3,
   "id": "ecf36bd6-f80d-4cb0-a4f3-b4314936eb08",
   "metadata": {},
   "outputs": [
    {
     "name": "stdin",
     "output_type": "stream",
     "text": [
      " 3\n",
      " 1 2 3\n"
     ]
    },
    {
     "name": "stdout",
     "output_type": "stream",
     "text": [
      "11\n"
     ]
    }
   ],
   "source": [
    "from collections import deque\n",
    "n = int(input())\n",
    "q = deque(map(int, input().split()))\n",
    "answer = 0\n",
    "while q:\n",
    "    a = q.popleft()\n",
    "    for i in q:\n",
    "        answer+= a*i\n",
    "        answer = answer % 1000000007\n",
    "print(answer)\n",
    "        "
   ]
  },
  {
   "cell_type": "code",
   "execution_count": 4,
   "id": "5883b4bb-44fe-4b15-bafb-5b1e85bc297e",
   "metadata": {},
   "outputs": [
    {
     "name": "stdin",
     "output_type": "stream",
     "text": [
      " 3\n",
      " 1 2 3\n"
     ]
    },
    {
     "name": "stdout",
     "output_type": "stream",
     "text": [
      "11\n"
     ]
    }
   ],
   "source": [
    "n = int(input())\n",
    "num_list = list(map(int,input().split()))\n",
    "sum_list = sum(num_list)\n",
    "result = 0\n",
    "for i in num_list:\n",
    "    sum_list -= i\n",
    "    result = (result + i * sum_list) % 1000000007\n",
    "print(result)"
   ]
  }
 ],
 "metadata": {
  "kernelspec": {
   "display_name": "Python 3 (ipykernel)",
   "language": "python",
   "name": "python3"
  },
  "language_info": {
   "codemirror_mode": {
    "name": "ipython",
    "version": 3
   },
   "file_extension": ".py",
   "mimetype": "text/x-python",
   "name": "python",
   "nbconvert_exporter": "python",
   "pygments_lexer": "ipython3",
   "version": "3.7.11"
  }
 },
 "nbformat": 4,
 "nbformat_minor": 5
}
