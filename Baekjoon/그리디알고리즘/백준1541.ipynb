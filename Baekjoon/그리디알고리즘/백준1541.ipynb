{
 "cells": [
  {
   "cell_type": "code",
   "execution_count": 1,
   "id": "bf81ac56-7998-4257-95b5-9a02ce44910d",
   "metadata": {},
   "outputs": [
    {
     "name": "stdin",
     "output_type": "stream",
     "text": [
      " 55-50+40\n"
     ]
    },
    {
     "name": "stdout",
     "output_type": "stream",
     "text": [
      "-35\n"
     ]
    }
   ],
   "source": [
    "minus_split = input().split('-')\n",
    "num = []\n",
    "\n",
    "for i in minus_split:\n",
    "    add = 0\n",
    "    s = i.split('+')\n",
    "    for j in s:\n",
    "        add += int(j)\n",
    "        \n",
    "    num.append(add)\n",
    "\n",
    "for i in range(len(num)):\n",
    "    if i == 0:\n",
    "        result = num[0]\n",
    "        continue\n",
    "    result -= num[i]\n",
    "print(result)"
   ]
  }
 ],
 "metadata": {
  "kernelspec": {
   "display_name": "Python 3",
   "language": "python",
   "name": "python3"
  },
  "language_info": {
   "codemirror_mode": {
    "name": "ipython",
    "version": 3
   },
   "file_extension": ".py",
   "mimetype": "text/x-python",
   "name": "python",
   "nbconvert_exporter": "python",
   "pygments_lexer": "ipython3",
   "version": "3.6.13"
  }
 },
 "nbformat": 4,
 "nbformat_minor": 5
}
