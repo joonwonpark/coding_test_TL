{
 "cells": [
  {
   "cell_type": "code",
   "execution_count": 1,
   "id": "e4ba889e-abe8-45a7-b45c-d23145fb8459",
   "metadata": {},
   "outputs": [
    {
     "name": "stdin",
     "output_type": "stream",
     "text": [
      " 4 5 1\n",
      " 1 2\n",
      " 1 3\n",
      " 1 4\n",
      " 2 4\n",
      " 3 4\n"
     ]
    },
    {
     "name": "stdout",
     "output_type": "stream",
     "text": [
      "1 2 4 3 \n",
      "1 2 3 4 "
     ]
    }
   ],
   "source": [
    "node_num, row, start = map(int, input().split())\n",
    "graph  = [[] for i in range(node_num + 1)]\n",
    "for i in range(row):\n",
    "    s, e = map(int, input().split())\n",
    "    graph[s].append(e)\n",
    "    graph[e].append(s)\n",
    "    graph[s].sort()\n",
    "    graph[e].sort()\n",
    "    \n",
    "visited = [False] * (node_num + 1)\n",
    "                     \n",
    "def dfs(graph, v, visited):\n",
    "    visited[v] = True\n",
    "    print(v, end=' ')\n",
    "    for i in graph[v]:\n",
    "        if not visited[i]:\n",
    "            dfs(graph, i, visited)\n",
    "\n",
    "from collections import deque\n",
    "\n",
    "def bfs(graph, start, visited):\n",
    "    queue = deque([start])\n",
    "    visited[start] = True\n",
    "    while queue:\n",
    "        v = queue.popleft()\n",
    "        print(v, end=' ')\n",
    "        for i in graph[v]:\n",
    "            if not visited[i]:\n",
    "                queue.append(i)\n",
    "                visited[i] = True\n",
    "                \n",
    "visited = [False] * (node_num + 1)\n",
    "dfs(graph, start, visited)\n",
    "print()\n",
    "visited = [False] * (node_num + 1)\n",
    "bfs(graph, start, visited)"
   ]
  },
  {
   "cell_type": "code",
   "execution_count": null,
   "id": "9a1cf2ef-8fd8-41b9-a0f4-d251487e09c1",
   "metadata": {},
   "outputs": [],
   "source": [
    "def dfs(graph, v, visited):\n",
    "    visited[v] = True\n",
    "    print(v, end=' ')\n",
    "    for i in graph[v]:\n",
    "        if not visited[i]:\n",
    "            dfs(graph, i, visited)"
   ]
  },
  {
   "cell_type": "code",
   "execution_count": null,
   "id": "55fe395f-ea44-4e91-9df0-82c70fda3005",
   "metadata": {},
   "outputs": [],
   "source": [
    "dfs(graph, start, visited):\n",
    "    visited[start] = True\n",
    "    print(start, end = ' ')\n",
    "    for i in graph[start]:\n",
    "        if visited"
   ]
  }
 ],
 "metadata": {
  "kernelspec": {
   "display_name": "Python 3",
   "language": "python",
   "name": "python3"
  },
  "language_info": {
   "codemirror_mode": {
    "name": "ipython",
    "version": 3
   },
   "file_extension": ".py",
   "mimetype": "text/x-python",
   "name": "python",
   "nbconvert_exporter": "python",
   "pygments_lexer": "ipython3",
   "version": "3.6.13"
  }
 },
 "nbformat": 4,
 "nbformat_minor": 5
}
