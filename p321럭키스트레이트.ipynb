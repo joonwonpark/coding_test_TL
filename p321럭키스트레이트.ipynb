{
 "cells": [
  {
   "cell_type": "code",
   "execution_count": 1,
   "id": "94ad7faf-53bc-4b07-bbf4-540b80508993",
   "metadata": {},
   "outputs": [
    {
     "name": "stdin",
     "output_type": "stream",
     "text": [
      " 123402\n"
     ]
    },
    {
     "name": "stdout",
     "output_type": "stream",
     "text": [
      "LUCKY\n"
     ]
    }
   ],
   "source": [
    "N = input()\n",
    "L = N[:3]\n",
    "R = N[3:]\n",
    "L_sum = 0\n",
    "R_sum = 0\n",
    "for l, r in zip(L,R):\n",
    "    L_sum += int(l)\n",
    "    R_sum += int(r)\n",
    "    \n",
    "if L_sum == R_sum:\n",
    "    print('LUCKY')\n",
    "else:\n",
    "    print('READY')"
   ]
  },
  {
   "cell_type": "code",
   "execution_count": null,
   "id": "a635bb06-73a2-40fa-92ae-d477b769ebed",
   "metadata": {},
   "outputs": [],
   "source": []
  }
 ],
 "metadata": {
  "kernelspec": {
   "display_name": "Python 3",
   "language": "python",
   "name": "python3"
  },
  "language_info": {
   "codemirror_mode": {
    "name": "ipython",
    "version": 3
   },
   "file_extension": ".py",
   "mimetype": "text/x-python",
   "name": "python",
   "nbconvert_exporter": "python",
   "pygments_lexer": "ipython3",
   "version": "3.6.13"
  }
 },
 "nbformat": 4,
 "nbformat_minor": 5
}
