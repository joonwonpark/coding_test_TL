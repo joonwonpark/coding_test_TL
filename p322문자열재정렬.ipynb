{
 "cells": [
  {
   "cell_type": "code",
   "execution_count": 1,
   "id": "97412c99-6b51-4202-aa3a-836c29b802ca",
   "metadata": {},
   "outputs": [
    {
     "name": "stdin",
     "output_type": "stream",
     "text": [
      " AJKDLSI412KAJSJ90\n"
     ]
    },
    {
     "name": "stdout",
     "output_type": "stream",
     "text": [
      "AADIJJJKKLSS16\n"
     ]
    }
   ],
   "source": [
    "S = input()\n",
    "alpha_list = []\n",
    "num_list = []\n",
    "\n",
    "for i in S:\n",
    "    if i.isalpha() :\n",
    "        alpha_list.append(i)\n",
    "    else:\n",
    "        num_list.append(i)\n",
    "alpha_list.sort()\n",
    "num_list.sort()\n",
    "\n",
    "front_result = ''\n",
    "back_result = 0\n",
    "while True:\n",
    "    for i in alpha_list:\n",
    "        front_result += i\n",
    "    for j in num_list:\n",
    "        back_result += int(j)\n",
    "    break\n",
    "print(front_result + str(back_result))"
   ]
  }
 ],
 "metadata": {
  "kernelspec": {
   "display_name": "Python 3",
   "language": "python",
   "name": "python3"
  },
  "language_info": {
   "codemirror_mode": {
    "name": "ipython",
    "version": 3
   },
   "file_extension": ".py",
   "mimetype": "text/x-python",
   "name": "python",
   "nbconvert_exporter": "python",
   "pygments_lexer": "ipython3",
   "version": "3.6.13"
  }
 },
 "nbformat": 4,
 "nbformat_minor": 5
}
