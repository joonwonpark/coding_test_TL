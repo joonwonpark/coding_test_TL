{
 "cells": [
  {
   "cell_type": "code",
   "execution_count": 4,
   "id": "21facb1f-62f6-4eb7-85c7-38b849e67225",
   "metadata": {},
   "outputs": [
    {
     "name": "stdin",
     "output_type": "stream",
     "text": [
      " b6\n"
     ]
    },
    {
     "name": "stdout",
     "output_type": "stream",
     "text": [
      "6\n"
     ]
    }
   ],
   "source": [
    "start = input()\n",
    "row = int(start[1])\n",
    "column = int(ord(start[0]) - ord('a')) + 1\n",
    "\n",
    "dx = [1, 1, -1, -1, 2, 2, -2, -2]\n",
    "dy = [2, -2, 2, -2, 1, -1, 1, -2]\n",
    "\n",
    "count = 0\n",
    "\n",
    "for step in range(len(dx)):\n",
    "    nx = column + dx[step]\n",
    "    ny = row + dy[step]\n",
    "    \n",
    "    if nx < 1 or ny < 1 or nx > 8 or ny > 8:\n",
    "        pass\n",
    "    else:\n",
    "        count += 1\n",
    "        \n",
    "print(count)"
   ]
  },
  {
   "cell_type": "code",
   "execution_count": 5,
   "id": "e9e3c3fd-e1c1-4293-8b07-5f1c315190eb",
   "metadata": {},
   "outputs": [
    {
     "name": "stdin",
     "output_type": "stream",
     "text": [
      " b6\n"
     ]
    },
    {
     "name": "stdout",
     "output_type": "stream",
     "text": [
      "6\n"
     ]
    }
   ],
   "source": [
    "start = input()\n",
    "row = int(start[1])\n",
    "column = int(ord(start[0]) - ord('a')) + 1\n",
    "\n",
    "steps = [(-2, -1), (-1, -2), (-2, 1), (1, -2), (2, -1), (-1, 2), (2, 1), (1, 2)]\n",
    "\n",
    "count = 0\n",
    "\n",
    "for step in steps:\n",
    "    nx = column + step[0]\n",
    "    ny = row + step[1]\n",
    "    \n",
    "    if nx < 1 or ny < 1 or nx > 8 or ny > 8:\n",
    "        pass\n",
    "    else:\n",
    "        count += 1\n",
    "        \n",
    "print(count)"
   ]
  },
  {
   "cell_type": "code",
   "execution_count": null,
   "id": "317d3bc0-b0d1-4b24-bd7e-da39e7a675f0",
   "metadata": {},
   "outputs": [],
   "source": []
  }
 ],
 "metadata": {
  "kernelspec": {
   "display_name": "Python 3",
   "language": "python",
   "name": "python3"
  },
  "language_info": {
   "codemirror_mode": {
    "name": "ipython",
    "version": 3
   },
   "file_extension": ".py",
   "mimetype": "text/x-python",
   "name": "python",
   "nbconvert_exporter": "python",
   "pygments_lexer": "ipython3",
   "version": "3.6.13"
  }
 },
 "nbformat": 4,
 "nbformat_minor": 5
}
