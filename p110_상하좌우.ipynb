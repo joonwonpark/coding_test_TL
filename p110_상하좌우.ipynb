{
 "cells": [
  {
   "cell_type": "code",
   "execution_count": 1,
   "id": "fec55787-d195-4809-b39d-4974d68d6e70",
   "metadata": {},
   "outputs": [
    {
     "data": {
      "text/plain": [
       "'\\n5\\nR R R U D D\\n'"
      ]
     },
     "execution_count": 1,
     "metadata": {},
     "output_type": "execute_result"
    }
   ],
   "source": [
    "'''\n",
    "5\n",
    "R R R U D D\n",
    "'''"
   ]
  },
  {
   "cell_type": "code",
   "execution_count": 12,
   "id": "d4f2b982-a087-47a9-ad0a-ab2df73c3551",
   "metadata": {},
   "outputs": [
    {
     "name": "stdin",
     "output_type": "stream",
     "text": [
      " 5\n",
      " R R R U D D\n"
     ]
    },
    {
     "name": "stdout",
     "output_type": "stream",
     "text": [
      "4 3\n"
     ]
    }
   ],
   "source": [
    "N = int(input())\n",
    "plan = input().split()\n",
    "\n",
    "x = 1\n",
    "y = 1\n",
    "\n",
    "# map_ = [[0] * N for _ in range(N)]\n",
    "\n",
    "dx = [0, 0, 1, -1]\n",
    "dy = [1, -1, 0, 0]\n",
    "move_type = ['D', 'U', 'R', 'L']\n",
    "\n",
    "for direct in plan:\n",
    "    nx = x + dx[move_type.index(direct)]\n",
    "    ny = y + dy[move_type.index(direct)]\n",
    "    if (nx < 1) or (ny < 1) or (nx > N) or (ny > N):\n",
    "        continue\n",
    "    x, y = nx, ny\n",
    "print(nx, ny)"
   ]
  }
 ],
 "metadata": {
  "kernelspec": {
   "display_name": "Python 3",
   "language": "python",
   "name": "python3"
  },
  "language_info": {
   "codemirror_mode": {
    "name": "ipython",
    "version": 3
   },
   "file_extension": ".py",
   "mimetype": "text/x-python",
   "name": "python",
   "nbconvert_exporter": "python",
   "pygments_lexer": "ipython3",
   "version": "3.6.13"
  }
 },
 "nbformat": 4,
 "nbformat_minor": 5
}
