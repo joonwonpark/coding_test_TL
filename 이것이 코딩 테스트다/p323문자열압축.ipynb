{
 "cells": [
  {
   "cell_type": "code",
   "execution_count": 1,
   "id": "d6a0f2cb-6c14-461d-ba2e-e3f790d272f7",
   "metadata": {},
   "outputs": [
    {
     "name": "stdin",
     "output_type": "stream",
     "text": [
      " aabbaccc\n"
     ]
    },
    {
     "name": "stdout",
     "output_type": "stream",
     "text": [
      "7\n"
     ]
    }
   ],
   "source": [
    "s = input()\n",
    "input_length = len(s)\n",
    "short_result = input_length\n",
    "for i in range(1, input_length // 2 + 1):\n",
    "    result = ''\n",
    "    count = 1\n",
    "    for j in range(input_length // i):\n",
    "        if i * (j + 2) > input_length:\n",
    "            result += s[i * (j + 1): ]\n",
    "        if s[i * j : i * (j + 1)] == s[i * (j + 1) : i * (j + 2)]:\n",
    "            count += 1\n",
    "        else:\n",
    "            if count != 1:\n",
    "                result += str(count) + s[i * j : i * (j + 1)]\n",
    "                count = 1\n",
    "            else:\n",
    "                result += s[i * j : i * (j + 1)]\n",
    "            \n",
    "            \n",
    "    short_result = min(short_result, len(result))\n",
    "    \n",
    "answer = short_result\n",
    "print(answer)"
   ]
  },
  {
   "cell_type": "code",
   "execution_count": 2,
   "id": "a181c559-9fb9-48f7-8425-d4dcfb0d8865",
   "metadata": {},
   "outputs": [
    {
     "data": {
      "text/plain": [
       "'aabbaccc 7\\nababcdcdababcdcd 9\\nabcabcdede 8\\nabcabcabcabcdededededede 14\\nxababcdcdababcdcd 17'"
      ]
     },
     "execution_count": 2,
     "metadata": {},
     "output_type": "execute_result"
    }
   ],
   "source": [
    "'''aabbaccc 7\n",
    "ababcdcdababcdcd 9\n",
    "abcabcdede 8\n",
    "abcabcabcabcdededededede 14\n",
    "xababcdcdababcdcd 17'''"
   ]
  }
 ],
 "metadata": {
  "kernelspec": {
   "display_name": "Python 3",
   "language": "python",
   "name": "python3"
  },
  "language_info": {
   "codemirror_mode": {
    "name": "ipython",
    "version": 3
   },
   "file_extension": ".py",
   "mimetype": "text/x-python",
   "name": "python",
   "nbconvert_exporter": "python",
   "pygments_lexer": "ipython3",
   "version": "3.6.13"
  }
 },
 "nbformat": 4,
 "nbformat_minor": 5
}
